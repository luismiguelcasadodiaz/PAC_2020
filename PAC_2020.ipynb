{
 "cells": [
  {
   "cell_type": "code",
   "execution_count": 1,
   "id": "muslim-payday",
   "metadata": {},
   "outputs": [],
   "source": [
    "import pandas as pd\n",
    "import numpy as np\n",
    "import timeit"
   ]
  },
  {
   "cell_type": "code",
   "execution_count": 2,
   "id": "numeric-brief",
   "metadata": {},
   "outputs": [],
   "source": [
    "def muestra_tabla(datos, lineas = 30):\n",
    "    #datos is a Dataframe.\n",
    "    #identify max index\n",
    "    max_lenght = len(max(datos.index.values, key=len))\n",
    "    contador = 1\n",
    "    for label, importe in datos.iterrows():\n",
    "        print(f\"{label:{max_lenght}}\\t{importe[0]:<,.2f}\")\n",
    "        contador +=1\n",
    "        if contador > lineas: break"
   ]
  },
  {
   "cell_type": "code",
   "execution_count": 3,
   "id": "revolutionary-trustee",
   "metadata": {},
   "outputs": [],
   "source": [
    "def beneficiarios (provincia):\n",
    "\n",
    "    registros_OK = PAC_2021_MIS_MEDIDAS_df[\"PROVINCIA\"] == provincia\n",
    "    registros = PAC_2021_MIS_MEDIDAS_df[registros_OK]\n",
    "    beneficiarios = pd.pivot_table(registros, index = [\"BENEFICIARIO\"],values=[\"IMPORTE_EUROS\"],aggfunc=np.sum).sort_values(\"IMPORTE_EUROS\",ascending=False)\n",
    "    muestra_tabla(beneficiarios)"
   ]
  },
  {
   "cell_type": "code",
   "execution_count": 4,
   "id": "loaded-architecture",
   "metadata": {},
   "outputs": [],
   "source": [
    "Source_data = \"Beneficiarios_municipio_ejercicio_2020.txt\"\n",
    "cabeceras = [\"BENEFICIARIO\",\"PROVINCIA\",\"MUNICIPIO\",\"MEDIDA\",\"IMPORTE_EUROS\",\"Vacio\"]\n",
    "dtipo_campos={\n",
    "    'BENEFICIARIO': str,\n",
    "    'PROVINCIA': str,\n",
    "    'MUNICIPI': str,\n",
    "    'MEDIDA': str,\n",
    "    'IMPORTE_EUROS':str,\n",
    "    'vacio':str}\n",
    "separador=';'"
   ]
  },
  {
   "cell_type": "code",
   "execution_count": null,
   "id": "congressional-freeware",
   "metadata": {},
   "outputs": [],
   "source": []
  },
  {
   "cell_type": "code",
   "execution_count": 5,
   "id": "mighty-sellers",
   "metadata": {},
   "outputs": [],
   "source": [
    "PAC_2021_df = pd.read_csv(Source_data,names=cabeceras,sep=separador,error_bad_lines=True, warn_bad_lines=True, encoding='iso8859_16',dtype=dtipo_campos,skiprows=1)"
   ]
  },
  {
   "cell_type": "code",
   "execution_count": 6,
   "id": "synthetic-activity",
   "metadata": {},
   "outputs": [],
   "source": [
    "PAC_2021_df['IMPORTE_EUROS'] = pd.to_numeric(PAC_2021_df['IMPORTE_EUROS'], errors='coerce')"
   ]
  },
  {
   "cell_type": "code",
   "execution_count": 7,
   "id": "backed-financing",
   "metadata": {},
   "outputs": [
    {
     "data": {
      "text/plain": [
       "7513272229.340004"
      ]
     },
     "execution_count": 7,
     "metadata": {},
     "output_type": "execute_result"
    }
   ],
   "source": [
    "PAC_2021_df['IMPORTE_EUROS'].sum()"
   ]
  },
  {
   "cell_type": "code",
   "execution_count": 8,
   "id": "ranging-authority",
   "metadata": {},
   "outputs": [
    {
     "data": {
      "text/plain": [
       "415353492.12"
      ]
     },
     "execution_count": 8,
     "metadata": {},
     "output_type": "execute_result"
    }
   ],
   "source": [
    "#filtrado de lineas de la medidas \n",
    "#III.5   Programas de apoyo en el sector vitivinicola\n",
    "#III.4   Ayuda en el sector de las frutas y hortalizas\n",
    "filter_list = [\"III.5   Programas de apoyo en el sector vitivinicola\", \n",
    "               \"III.4   Ayuda en el sector de las frutas y hortalizas\"]\n",
    "PAC_2021_MIS_MEDIDAS_df =PAC_2021_df.loc[PAC_2021_df[\"MEDIDA\"].isin(filter_list)]\n",
    "PAC_2021_MIS_MEDIDAS_df['IMPORTE_EUROS'].sum()"
   ]
  },
  {
   "cell_type": "code",
   "execution_count": 9,
   "id": "alone-capital",
   "metadata": {},
   "outputs": [],
   "source": [
    "#We create a pivot tabel to discover which province has the highes valus\n",
    "\n",
    "a=pd.pivot_table(PAC_2021_df,index=[\"PROVINCIA\"],values=[\"IMPORTE_EUROS\"],aggfunc=np.sum).sort_values(\"IMPORTE_EUROS\",ascending=False)\n",
    "b=pd.pivot_table(PAC_2021_MIS_MEDIDAS_df,index=[\"PROVINCIA\"],values=[\"IMPORTE_EUROS\"],aggfunc=np.sum).sort_values(\"IMPORTE_EUROS\",ascending=False)\n"
   ]
  },
  {
   "cell_type": "code",
   "execution_count": 10,
   "id": "humanitarian-trace",
   "metadata": {},
   "outputs": [
    {
     "name": "stdout",
     "output_type": "stream",
     "text": [
      "Sevilla                 \t544,147,512.94\n",
      "Badajoz                 \t434,227,472.25\n",
      "Murcia                \t68,486,585.94\n",
      "Almería               \t64,341,029.36\n",
      "Huelva                \t31,142,999.26\n",
      "València/Valencia     \t24,276,808.63\n",
      "Albacete              \t17,771,155.82\n",
      "Lleida                \t16,418,482.53\n",
      "Navarra               \t14,487,661.44\n",
      "Zaragoza              \t13,899,697.59\n",
      "Badajoz               \t13,721,297.14\n",
      "Ciudad Real           \t11,681,591.27\n"
     ]
    }
   ],
   "source": [
    "muestra_tabla(a,2)\n",
    "muestra_tabla(b,10)"
   ]
  },
  {
   "cell_type": "code",
   "execution_count": 12,
   "id": "manual-charge",
   "metadata": {},
   "outputs": [
    {
     "name": "stdout",
     "output_type": "stream",
     "text": [
      "LAS PRIMICIAS SAT Nș 9909                \t4,084,734.17\n",
      "MOYCA GRAPES S.L.                        \t3,155,619.44\n",
      "SAT Nș 9895 AGRICOLA PERICHAN            \t3,036,047.50\n",
      "AGRUPACION HORTOFRUTICOLA LUCAS OPFH, S.L\t2,399,490.28\n",
      "GRUPO HORTOFRUTICOLA PALOMA S.A.         \t2,299,571.59\n",
      "SOL Y TIERRA CAMPO DE CARTAGENA S.L.     \t2,116,276.43\n",
      "AGRONATIVA, S.L.                         \t2,074,187.88\n",
      "FRUTAS ESTHER,S.A.                       \t2,030,384.28\n",
      "S.A.T. N. 9504 URCISOL                   \t1,727,085.31\n",
      "CAMPO DE LORCA, S.C.L.                   \t1,648,196.57\n",
      "COATO SCDAD. COOP. DE COMERC . AGRARIA   \t1,594,746.63\n",
      "GREGAL S.COOP.                           \t1,572,333.68\n",
      "COEXMA, SDAD COOP LTDA                   \t1,529,116.49\n",
      "ALIMENTOS DEL MEDITERRÁNEO, S.COOP.      \t1,519,215.92\n",
      "UNILAND, SDAD.COOP.                      \t1,435,516.92\n",
      "S.A.T. 9821 G GRUPO C.F.M.               \t1,425,517.89\n",
      "EL LIMONAR DE SANTOMERA S.COOP.          \t1,367,446.24\n",
      "Frutas y Citricos de Mula S. Coop.       \t1,308,568.38\n",
      "S.A.T.Nș 2.457 SAN CAYETANO              \t1,274,166.98\n",
      "BODEGAS HIJOS DE JUAN GIL SL             \t1,169,651.44\n",
      "AGRICULTORES DEL SURESTE,S.A.T.9688      \t1,154,392.43\n",
      "SACOJE O.P.F.H.Nș511                     \t1,112,085.38\n",
      "AGRÍCOLA LEVANTE SUR, S.COOP.            \t1,070,851.89\n",
      "KERNEL EXPORT, S.L.                      \t1,040,136.51\n",
      "SAT Nș 97 BLANCASOL                      \t986,665.87\n",
      "COOP. HORTOF. CAMPOS DE JUMILLA, S.C.L.  \t982,947.40\n",
      "AGROMARK S.L.                            \t975,395.33\n",
      "La Vega de Cieza S. Coop.                \t956,919.04\n",
      "S.A.T. Nș 9915 CITRICOS DEL SURESTE      \t847,185.96\n",
      "DEILOR, SDAD. COOP. AGRARIA              \t843,500.38\n"
     ]
    }
   ],
   "source": [
    "beneficiarios(\"Murcia\")\n"
   ]
  },
  {
   "cell_type": "code",
   "execution_count": null,
   "id": "domestic-argentina",
   "metadata": {},
   "outputs": [],
   "source": []
  }
 ],
 "metadata": {
  "kernelspec": {
   "display_name": "Python 3",
   "language": "python",
   "name": "python3"
  },
  "language_info": {
   "codemirror_mode": {
    "name": "ipython",
    "version": 3
   },
   "file_extension": ".py",
   "mimetype": "text/x-python",
   "name": "python",
   "nbconvert_exporter": "python",
   "pygments_lexer": "ipython3",
   "version": "3.8.5"
  }
 },
 "nbformat": 4,
 "nbformat_minor": 5
}
